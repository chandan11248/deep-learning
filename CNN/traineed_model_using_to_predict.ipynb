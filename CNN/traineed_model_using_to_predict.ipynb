{
 "cells": [
  {
   "cell_type": "code",
   "execution_count": 2,
   "id": "ca33c445",
   "metadata": {},
   "outputs": [
    {
     "name": "stderr",
     "output_type": "stream",
     "text": [
      "WARNING:absl:Compiled the loaded model, but the compiled metrics have yet to be built. `model.compile_metrics` will be empty until you train or evaluate the model.\n"
     ]
    }
   ],
   "source": [
    "import tensorflow as tf\n",
    "from tensorflow.keras.models import load_model\n",
    "from tensorflow.keras.preprocessing import image\n",
    "import numpy as np\n",
    "import matplotlib.pyplot as plt\n",
    "\n",
    "# Load the saved model\n",
    "loaded_model = load_model('preview/handwritten_alphabet_model.h5')\n",
    "\n",
    "# Function to preprocess and predict on a new image\n",
    "def predict_handwritten_character(image_path, model):\n",
    "    img = image.load_img(image_path, target_size=(28, 28), color_mode='grayscale')\n",
    "    x = image.img_to_array(img)\n",
    "    x = x / 255.0\n",
    "    x = np.expand_dims(x, axis=0)\n",
    "\n",
    "    prediction = model.predict(x)\n",
    "    predicted_label = np.argmax(prediction)\n",
    "    return chr(predicted_label + 65) # 65 -> ASCII of 'A'\n",
    "\n",
    "# Example usage: replace 'path/to/your/image.png' with the actual path to the image\n",
    "\n",
    "\n",
    "# Display the image and the prediction (optional)\n",
    "# img_display = image.load_img('path/to/your/image.png', target_size=(28, 28), color_mode='grayscale')\n",
    "# plt.imshow(img_display, cmap='gray')\n",
    "# plt.title(f\"Predicted: {predicted_char}\")\n",
    "# plt.axis('off')\n",
    "# plt.show()"
   ]
  },
  {
   "cell_type": "code",
   "execution_count": null,
   "id": "5bb85c2c",
   "metadata": {},
   "outputs": [],
   "source": []
  }
 ],
 "metadata": {
  "kernelspec": {
   "display_name": "deep_learning",
   "language": "python",
   "name": "python3"
  },
  "language_info": {
   "codemirror_mode": {
    "name": "ipython",
    "version": 3
   },
   "file_extension": ".py",
   "mimetype": "text/x-python",
   "name": "python",
   "nbconvert_exporter": "python",
   "pygments_lexer": "ipython3",
   "version": "3.13.5"
  }
 },
 "nbformat": 4,
 "nbformat_minor": 5
}
