{
 "cells": [
  {
   "cell_type": "code",
   "execution_count": 4,
   "id": "e6aa5dab",
   "metadata": {},
   "outputs": [
    {
     "name": "stdout",
     "output_type": "stream",
     "text": [
      "\u001b[1m1/1\u001b[0m \u001b[32m━━━━━━━━━━━━━━━━━━━━\u001b[0m\u001b[37m\u001b[0m \u001b[1m1s\u001b[0m 1s/step\n",
      "Predicted: [('n02123394', 'Persian_cat', 0.3911181), ('n02123045', 'tabby', 0.37155968), ('n02124075', 'Egyptian_cat', 0.11713933)]\n"
     ]
    }
   ],
   "source": [
    "from tensorflow.keras.applications.resnet50 import ResNet50, preprocess_input, decode_predictions\n",
    "from tensorflow.keras.preprocessing import image\n",
    "import numpy as np\n",
    "\n",
    "# 1️⃣ Load the pretrained ResNet50 model\n",
    "model = ResNet50(weights='imagenet')\n",
    "\n",
    "# 2️⃣ Load and preprocess the image\n",
    "img_path = 'preview/cat.jpg'   # Make sure the image path is correct\n",
    "img = image.load_img(img_path, target_size=(224, 224))  # Resize to 224x224\n",
    "\n",
    "x = image.img_to_array(img)        # Convert image to array\n",
    "x = np.expand_dims(x, axis=0)      # Add batch dimension\n",
    "x = preprocess_input(x)            # Preprocess for ResNet50\n",
    "\n",
    "# 3️⃣ Make prediction\n",
    "preds = model.predict(x)\n",
    "\n",
    "# 4️⃣ Decode and show top-3 predicted classes\n",
    "print('Predicted:', decode_predictions(preds, top=3)[0])"
   ]
  }
 ],
 "metadata": {
  "kernelspec": {
   "display_name": "tensorflow",
   "language": "python",
   "name": "python3"
  },
  "language_info": {
   "codemirror_mode": {
    "name": "ipython",
    "version": 3
   },
   "file_extension": ".py",
   "mimetype": "text/x-python",
   "name": "python",
   "nbconvert_exporter": "python",
   "pygments_lexer": "ipython3",
   "version": "3.10.18"
  }
 },
 "nbformat": 4,
 "nbformat_minor": 5
}
