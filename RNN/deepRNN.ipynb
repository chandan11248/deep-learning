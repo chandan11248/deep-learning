{
 "cells": [
  {
   "cell_type": "code",
   "execution_count": 1,
   "id": "7e0334a0",
   "metadata": {},
   "outputs": [
    {
     "name": "stdout",
     "output_type": "stream",
     "text": [
      "Epoch 1/5\n"
     ]
    },
    {
     "name": "stderr",
     "output_type": "stream",
     "text": [
      "/Users/owner/Desktop/deep-learning/deep_learning/lib/python3.13/site-packages/keras/src/layers/core/embedding.py:97: UserWarning: Argument `input_length` is deprecated. Just remove it.\n",
      "  warnings.warn(\n"
     ]
    },
    {
     "name": "stdout",
     "output_type": "stream",
     "text": [
      "\u001b[1m391/391\u001b[0m \u001b[32m━━━━━━━━━━━━━━━━━━━━\u001b[0m\u001b[37m\u001b[0m \u001b[1m21s\u001b[0m 50ms/step - accuracy: 0.7296 - loss: 0.5284 - val_accuracy: 0.8030 - val_loss: 0.4301\n",
      "Epoch 2/5\n",
      "\u001b[1m391/391\u001b[0m \u001b[32m━━━━━━━━━━━━━━━━━━━━\u001b[0m\u001b[37m\u001b[0m \u001b[1m19s\u001b[0m 49ms/step - accuracy: 0.8434 - loss: 0.3774 - val_accuracy: 0.7746 - val_loss: 0.4916\n",
      "Epoch 3/5\n",
      "\u001b[1m391/391\u001b[0m \u001b[32m━━━━━━━━━━━━━━━━━━━━\u001b[0m\u001b[37m\u001b[0m \u001b[1m19s\u001b[0m 49ms/step - accuracy: 0.8815 - loss: 0.3013 - val_accuracy: 0.8468 - val_loss: 0.3758\n",
      "Epoch 4/5\n",
      "\u001b[1m391/391\u001b[0m \u001b[32m━━━━━━━━━━━━━━━━━━━━\u001b[0m\u001b[37m\u001b[0m \u001b[1m19s\u001b[0m 49ms/step - accuracy: 0.9113 - loss: 0.2348 - val_accuracy: 0.8496 - val_loss: 0.3584\n",
      "Epoch 5/5\n",
      "\u001b[1m391/391\u001b[0m \u001b[32m━━━━━━━━━━━━━━━━━━━━\u001b[0m\u001b[37m\u001b[0m \u001b[1m19s\u001b[0m 50ms/step - accuracy: 0.9316 - loss: 0.1831 - val_accuracy: 0.8472 - val_loss: 0.4024\n",
      "\u001b[1m782/782\u001b[0m \u001b[32m━━━━━━━━━━━━━━━━━━━━\u001b[0m\u001b[37m\u001b[0m \u001b[1m7s\u001b[0m 9ms/step - accuracy: 0.8472 - loss: 0.4024\n",
      "Test Accuracy: 0.847\n"
     ]
    }
   ],
   "source": [
    "from tensorflow.keras.datasets import imdb\n",
    "from tensorflow.keras.preprocessing import sequence\n",
    "from tensorflow.keras.models import Sequential\n",
    "from tensorflow.keras.layers import Embedding, GRU, Dense, Dropout\n",
    "\n",
    "# 1️⃣ Load dataset\n",
    "max_features = 10000   # number of words to consider\n",
    "maxlen = 100           # sequence length\n",
    "\n",
    "(X_train, y_train), (X_test, y_test) = imdb.load_data(num_words=max_features)\n",
    "\n",
    "# 2️⃣ Pad sequences\n",
    "X_train = sequence.pad_sequences(X_train, maxlen=maxlen)\n",
    "X_test = sequence.pad_sequences(X_test, maxlen=maxlen)\n",
    "\n",
    "# 3️⃣ Build DEEP RNN (Stacked GRUs)\n",
    "model = Sequential([\n",
    "    Embedding(max_features, 128, input_length=maxlen),\n",
    "\n",
    "    # First GRU layer (returns sequences for stacking)\n",
    "    GRU(64, return_sequences=True, dropout=0.3, recurrent_dropout=0.3),\n",
    "\n",
    "    # Second GRU layer\n",
    "    GRU(64, return_sequences=False, dropout=0.3, recurrent_dropout=0.3),\n",
    "\n",
    "    # Fully connected output layer\n",
    "    Dense(64, activation='relu'),\n",
    "    Dropout(0.5),\n",
    "\n",
    "    Dense(1, activation='sigmoid')\n",
    "])\n",
    "\n",
    "# 4️⃣ Compile\n",
    "model.compile(optimizer='adam',\n",
    "              loss='binary_crossentropy',\n",
    "              metrics=['accuracy'])\n",
    "\n",
    "# 5️⃣ Train\n",
    "history = model.fit(X_train, y_train,\n",
    "                    epochs=5,\n",
    "                    batch_size=64,\n",
    "                    validation_data=(X_test, y_test))\n",
    "\n",
    "# 6️⃣ Evaluate\n",
    "loss, acc = model.evaluate(X_test, y_test)\n",
    "print(f\"Test Accuracy: {acc:.3f}\")"
   ]
  },
  {
   "cell_type": "markdown",
   "id": "903b95e2",
   "metadata": {},
   "source": [
    "> Performance Improvements\n",
    "\n",
    "> Stacking multiple GRU layers → learns hierarchical sequence patterns\n",
    "> Dropout → reduces overfitting\n",
    "> ReLU dense layer → adds nonlinearity\n",
    "> Adam optimizer → faster convergence"
   ]
  },
  {
   "cell_type": "markdown",
   "id": "a31309a7",
   "metadata": {},
   "source": [
    " Deep SimpleRNN Model (Stacked RNN)\n",
    " "
   ]
  },
  {
   "cell_type": "code",
   "execution_count": 2,
   "id": "94c187eb",
   "metadata": {},
   "outputs": [
    {
     "name": "stdout",
     "output_type": "stream",
     "text": [
      "Epoch 1/5\n",
      "\u001b[1m391/391\u001b[0m \u001b[32m━━━━━━━━━━━━━━━━━━━━\u001b[0m\u001b[37m\u001b[0m \u001b[1m8s\u001b[0m 19ms/step - accuracy: 0.5056 - loss: 0.7233 - val_accuracy: 0.5006 - val_loss: 0.6937\n",
      "Epoch 2/5\n",
      "\u001b[1m391/391\u001b[0m \u001b[32m━━━━━━━━━━━━━━━━━━━━\u001b[0m\u001b[37m\u001b[0m \u001b[1m7s\u001b[0m 18ms/step - accuracy: 0.4999 - loss: 0.6999 - val_accuracy: 0.5000 - val_loss: 0.6933\n",
      "Epoch 3/5\n",
      "\u001b[1m391/391\u001b[0m \u001b[32m━━━━━━━━━━━━━━━━━━━━\u001b[0m\u001b[37m\u001b[0m \u001b[1m7s\u001b[0m 19ms/step - accuracy: 0.5021 - loss: 0.6951 - val_accuracy: 0.5000 - val_loss: 0.6933\n",
      "Epoch 4/5\n",
      "\u001b[1m391/391\u001b[0m \u001b[32m━━━━━━━━━━━━━━━━━━━━\u001b[0m\u001b[37m\u001b[0m \u001b[1m7s\u001b[0m 19ms/step - accuracy: 0.4994 - loss: 0.6946 - val_accuracy: 0.4991 - val_loss: 0.6984\n",
      "Epoch 5/5\n",
      "\u001b[1m391/391\u001b[0m \u001b[32m━━━━━━━━━━━━━━━━━━━━\u001b[0m\u001b[37m\u001b[0m \u001b[1m7s\u001b[0m 19ms/step - accuracy: 0.5033 - loss: 0.6955 - val_accuracy: 0.5000 - val_loss: 0.6932\n",
      "\u001b[1m782/782\u001b[0m \u001b[32m━━━━━━━━━━━━━━━━━━━━\u001b[0m\u001b[37m\u001b[0m \u001b[1m3s\u001b[0m 3ms/step - accuracy: 0.5000 - loss: 0.6932\n",
      "Test Accuracy: 0.500\n"
     ]
    }
   ],
   "source": [
    "from tensorflow.keras.datasets import imdb\n",
    "from tensorflow.keras.preprocessing import sequence\n",
    "from tensorflow.keras.models import Sequential\n",
    "from tensorflow.keras.layers import Embedding, SimpleRNN, Dense, Dropout\n",
    "\n",
    "# 1️⃣ Load dataset\n",
    "max_features = 10000   # vocabulary size\n",
    "maxlen = 100           # sequence length\n",
    "\n",
    "(X_train, y_train), (X_test, y_test) = imdb.load_data(num_words=max_features)\n",
    "\n",
    "# 2️⃣ Pad sequences (same length)\n",
    "X_train = sequence.pad_sequences(X_train, maxlen=maxlen)\n",
    "X_test = sequence.pad_sequences(X_test, maxlen=maxlen)\n",
    "\n",
    "# 3️⃣ Build DEEP RNN Model\n",
    "model = Sequential([\n",
    "    Embedding(max_features, 128, input_length=maxlen),\n",
    "\n",
    "    # First RNN layer (returns sequence for stacking)\n",
    "    SimpleRNN(64, return_sequences=True, dropout=0.3, recurrent_dropout=0.3),\n",
    "\n",
    "    # Second RNN layer\n",
    "    SimpleRNN(64, return_sequences=False, dropout=0.3, recurrent_dropout=0.3),\n",
    "\n",
    "    # Fully connected layer\n",
    "    Dense(64, activation='relu'),\n",
    "    Dropout(0.5),\n",
    "\n",
    "    # Output layer\n",
    "    Dense(1, activation='sigmoid')\n",
    "])\n",
    "\n",
    "# 4️⃣ Compile\n",
    "model.compile(optimizer='adam',\n",
    "              loss='binary_crossentropy',\n",
    "              metrics=['accuracy'])\n",
    "\n",
    "# 5️⃣ Train\n",
    "history = model.fit(X_train, y_train,\n",
    "                    epochs=5,\n",
    "                    batch_size=64,\n",
    "                    validation_data=(X_test, y_test))\n",
    "\n",
    "# 6️⃣ Evaluate\n",
    "loss, acc = model.evaluate(X_test, y_test)\n",
    "print(f\"Test Accuracy: {acc:.3f}\")"
   ]
  },
  {
   "cell_type": "markdown",
   "id": "cb2b3160",
   "metadata": {},
   "source": [
    "# conclusion \n",
    "\n",
    "The Deep SimpleRNN model shows lower validation accuracy because it overfits and cannot capture long-term dependencies.\n",
    "\n",
    "Switching to Deep GRU or LSTM provides better generalization, higher validation performance, and more stable training."
   ]
  },
  {
   "cell_type": "markdown",
   "id": "127343e9",
   "metadata": {},
   "source": []
  }
 ],
 "metadata": {
  "kernelspec": {
   "display_name": "deep_learning",
   "language": "python",
   "name": "python3"
  },
  "language_info": {
   "codemirror_mode": {
    "name": "ipython",
    "version": 3
   },
   "file_extension": ".py",
   "mimetype": "text/x-python",
   "name": "python",
   "nbconvert_exporter": "python",
   "pygments_lexer": "ipython3",
   "version": "3.13.5"
  }
 },
 "nbformat": 4,
 "nbformat_minor": 5
}
