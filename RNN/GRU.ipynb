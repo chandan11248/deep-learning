{
 "cells": [
  {
   "cell_type": "markdown",
   "id": "f16df481",
   "metadata": {},
   "source": [
    "# INTRODUCTION\n",
    "A GRU is a type of Recurrent Neural Network (RNN) that helps remember long-term dependencies — but with a simpler design than an LSTM.\n",
    "\n",
    "It uses gates (like switches) to decide:\n",
    "\t•\tWhat information to keep\n",
    "\t•\tWhat to forget\n",
    "\t•\tWhat new information to add"
   ]
  },
  {
   "cell_type": "code",
   "execution_count": 1,
   "id": "0421e441",
   "metadata": {},
   "outputs": [
    {
     "name": "stdout",
     "output_type": "stream",
     "text": [
      "Epoch 1/3\n"
     ]
    },
    {
     "name": "stderr",
     "output_type": "stream",
     "text": [
      "/Users/owner/Desktop/deep-learning/deep_learning/lib/python3.13/site-packages/keras/src/layers/core/embedding.py:97: UserWarning: Argument `input_length` is deprecated. Just remove it.\n",
      "  warnings.warn(\n"
     ]
    },
    {
     "name": "stdout",
     "output_type": "stream",
     "text": [
      "\u001b[1m391/391\u001b[0m \u001b[32m━━━━━━━━━━━━━━━━━━━━\u001b[0m\u001b[37m\u001b[0m \u001b[1m9s\u001b[0m 22ms/step - accuracy: 0.7913 - loss: 0.4359 - val_accuracy: 0.8430 - val_loss: 0.3635\n",
      "Epoch 2/3\n",
      "\u001b[1m391/391\u001b[0m \u001b[32m━━━━━━━━━━━━━━━━━━━━\u001b[0m\u001b[37m\u001b[0m \u001b[1m9s\u001b[0m 22ms/step - accuracy: 0.8915 - loss: 0.2660 - val_accuracy: 0.8498 - val_loss: 0.3625\n",
      "Epoch 3/3\n",
      "\u001b[1m391/391\u001b[0m \u001b[32m━━━━━━━━━━━━━━━━━━━━\u001b[0m\u001b[37m\u001b[0m \u001b[1m8s\u001b[0m 22ms/step - accuracy: 0.9279 - loss: 0.1877 - val_accuracy: 0.8449 - val_loss: 0.3709\n",
      "\u001b[1m782/782\u001b[0m \u001b[32m━━━━━━━━━━━━━━━━━━━━\u001b[0m\u001b[37m\u001b[0m \u001b[1m2s\u001b[0m 3ms/step - accuracy: 0.8449 - loss: 0.3709\n",
      "Test Accuracy: 0.845\n"
     ]
    }
   ],
   "source": [
    "from tensorflow.keras.datasets import imdb\n",
    "from tensorflow.keras.preprocessing import sequence\n",
    "from tensorflow.keras.models import Sequential\n",
    "from tensorflow.keras.layers import Embedding, GRU, Dense\n",
    "\n",
    "# 1️⃣ Load the IMDB dataset\n",
    "max_features = 10000   # number of unique words to use\n",
    "maxlen = 100           # cut texts after this many words\n",
    "\n",
    "(X_train, y_train), (X_test, y_test) = imdb.load_data(num_words=max_features)\n",
    "\n",
    "# 2️⃣ Pad sequences so all reviews have the same length\n",
    "X_train = sequence.pad_sequences(X_train, maxlen=maxlen)\n",
    "X_test = sequence.pad_sequences(X_test, maxlen=maxlen)\n",
    "\n",
    "# 3️⃣ Build a simple GRU model\n",
    "model = Sequential([\n",
    "    Embedding(max_features, 128, input_length=maxlen),  # word embeddings\n",
    "    GRU(64, return_sequences=False),                    # GRU layer\n",
    "    Dense(1, activation='sigmoid')                      # output layer\n",
    "])\n",
    "\n",
    "# 4️⃣ Compile the model\n",
    "model.compile(optimizer='adam',\n",
    "              loss='binary_crossentropy',\n",
    "              metrics=['accuracy'])\n",
    "\n",
    "# 5️⃣ Train the model\n",
    "model.fit(X_train, y_train,\n",
    "          epochs=3,\n",
    "          batch_size=64,\n",
    "          validation_data=(X_test, y_test))\n",
    "\n",
    "# 6️⃣ Evaluate performance\n",
    "loss, acc = model.evaluate(X_test, y_test)\n",
    "print(f\"Test Accuracy: {acc:.3f}\")"
   ]
  },
  {
   "cell_type": "markdown",
   "id": "8607bdfe",
   "metadata": {},
   "source": [
    ">GRU is like a lighter, faster version of LSTM — it captures temporal patterns efficiently with fewer parameters.\n",
    ">LSTM, however, offers finer control over memory and is preferred when handling very long dependencies in large datasets."
   ]
  }
 ],
 "metadata": {
  "kernelspec": {
   "display_name": "deep_learning",
   "language": "python",
   "name": "python3"
  },
  "language_info": {
   "codemirror_mode": {
    "name": "ipython",
    "version": 3
   },
   "file_extension": ".py",
   "mimetype": "text/x-python",
   "name": "python",
   "nbconvert_exporter": "python",
   "pygments_lexer": "ipython3",
   "version": "3.13.5"
  }
 },
 "nbformat": 4,
 "nbformat_minor": 5
}
