{
 "cells": [
  {
   "cell_type": "code",
   "execution_count": 3,
   "id": "e9e5598d",
   "metadata": {},
   "outputs": [],
   "source": [
    "from tensorflow.keras.preprocessing.text import Tokenizer\n",
    "tokenizer=Tokenizer(oov_token=\"nothing\")"
   ]
  },
  {
   "cell_type": "code",
   "execution_count": 5,
   "id": "3d5948d2",
   "metadata": {},
   "outputs": [],
   "source": [
    "docs = [\n",
    "    'go nepal',\n",
    "    'nepal nepal',\n",
    "    'hip hip hurray',\n",
    "    'jeetega bhai jeetega nepal jeetega',\n",
    "    'nepal ama ko jai',\n",
    "    'lamichhane lamichhane',\n",
    "    'paras paras',\n",
    "    'sandeep sandeep',\n",
    "    'balen ji ki jai',\n",
    "    'inquilab zindabad'\n",
    "]"
   ]
  },
  {
   "cell_type": "code",
   "execution_count": 10,
   "id": "1cd9be2f",
   "metadata": {},
   "outputs": [],
   "source": [
    "tokenizer.fit_on_texts(docs)\n"
   ]
  },
  {
   "cell_type": "code",
   "execution_count": 12,
   "id": "31a582a4",
   "metadata": {},
   "outputs": [
    {
     "data": {
      "text/plain": [
       "{'nothing': 1,\n",
       " 'nepal': 2,\n",
       " 'jeetega': 3,\n",
       " 'hip': 4,\n",
       " 'jai': 5,\n",
       " 'lamichhane': 6,\n",
       " 'paras': 7,\n",
       " 'sandeep': 8,\n",
       " 'go': 9,\n",
       " 'hurray': 10,\n",
       " 'bhai': 11,\n",
       " 'ama': 12,\n",
       " 'ko': 13,\n",
       " 'balen': 14,\n",
       " 'ji': 15,\n",
       " 'ki': 16,\n",
       " 'inquilab': 17,\n",
       " 'zindabad': 18}"
      ]
     },
     "execution_count": 12,
     "metadata": {},
     "output_type": "execute_result"
    }
   ],
   "source": [
    "tokenizer.word_index"
   ]
  },
  {
   "cell_type": "code",
   "execution_count": 13,
   "id": "79fcabf5",
   "metadata": {},
   "outputs": [
    {
     "data": {
      "text/plain": [
       "OrderedDict([('go', 2),\n",
       "             ('nepal', 10),\n",
       "             ('hip', 4),\n",
       "             ('hurray', 2),\n",
       "             ('jeetega', 6),\n",
       "             ('bhai', 2),\n",
       "             ('ama', 2),\n",
       "             ('ko', 2),\n",
       "             ('jai', 4),\n",
       "             ('lamichhane', 4),\n",
       "             ('paras', 4),\n",
       "             ('sandeep', 4),\n",
       "             ('balen', 2),\n",
       "             ('ji', 2),\n",
       "             ('ki', 2),\n",
       "             ('inquilab', 2),\n",
       "             ('zindabad', 2)])"
      ]
     },
     "execution_count": 13,
     "metadata": {},
     "output_type": "execute_result"
    }
   ],
   "source": [
    "tokenizer.word_counts"
   ]
  },
  {
   "cell_type": "code",
   "execution_count": 14,
   "id": "934e32cf",
   "metadata": {},
   "outputs": [
    {
     "data": {
      "text/plain": [
       "20"
      ]
     },
     "execution_count": 14,
     "metadata": {},
     "output_type": "execute_result"
    }
   ],
   "source": [
    "tokenizer.document_count"
   ]
  },
  {
   "cell_type": "code",
   "execution_count": null,
   "id": "17312df4",
   "metadata": {},
   "outputs": [],
   "source": []
  }
 ],
 "metadata": {
  "kernelspec": {
   "display_name": "tensorflow",
   "language": "python",
   "name": "python3"
  },
  "language_info": {
   "codemirror_mode": {
    "name": "ipython",
    "version": 3
   },
   "file_extension": ".py",
   "mimetype": "text/x-python",
   "name": "python",
   "nbconvert_exporter": "python",
   "pygments_lexer": "ipython3",
   "version": "3.11.14"
  }
 },
 "nbformat": 4,
 "nbformat_minor": 5
}
